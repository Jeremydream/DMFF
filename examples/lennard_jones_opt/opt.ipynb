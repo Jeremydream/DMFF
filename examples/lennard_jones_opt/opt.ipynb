{
 "cells": [
  {
   "cell_type": "code",
   "execution_count": 89,
   "metadata": {},
   "outputs": [],
   "source": [
    "import openmm.app as app\n",
    "import openmm as mm\n",
    "import openmm.unit as unit\n",
    "import numpy as np\n",
    "import jax\n",
    "import jax.numpy as jnp\n",
    "import dmff\n",
    "from dmff.api.xmlio import XMLIO\n",
    "from dmff.api.paramset import ParamSet\n",
    "from dmff.generators.classical import CoulombGenerator, LennardJonesGenerator\n",
    "from dmff.api.hamiltonian import Hamiltonian\n",
    "from dmff.operators import ParmedLennardJonesOperator\n",
    "from dmff import NeighborListFreud\n",
    "import mdtraj as md\n",
    "from tqdm import tqdm\n",
    "import parmed\n",
    "import sys\n",
    "import os"
   ]
  },
  {
   "cell_type": "code",
   "execution_count": 109,
   "metadata": {},
   "outputs": [],
   "source": [
    "prm_top = parmed.load_file(\"Lig.top\")\n",
    "prm_top_500 = prm_top * 500\n",
    "dmfftop = dmff.DMFFTopology(from_top=prm_top_500.topology)\n",
    "prmop = ParmedLennardJonesOperator()\n",
    "dmfftop = prmop(dmfftop, gmx_top = prm_top_500)\n",
    "\n",
    "prmop.renderLennardJonesXML(\"init.xml\")\n",
    "xmlio = XMLIO()\n",
    "xmlio.loadXML(\"init.xml\")\n",
    "ffinfo = xmlio.parseXML()\n",
    "cov_mat = dmfftop.buildCovMat()\n",
    "\n",
    "paramset = ParamSet()\n",
    "lj_gen = LennardJonesGenerator(ffinfo, paramset)"
   ]
  },
  {
   "cell_type": "code",
   "execution_count": 110,
   "metadata": {},
   "outputs": [],
   "source": [
    "lj_force = lj_gen.createPotential(\n",
    "    dmfftop, nonbondedMethod=app.CutoffPeriodic, nonbondedCutoff=1.0, args={})"
   ]
  },
  {
   "attachments": {},
   "cell_type": "markdown",
   "metadata": {},
   "source": [
    "### 基于给定拓扑进行采样的函数"
   ]
  },
  {
   "cell_type": "code",
   "execution_count": 124,
   "metadata": {},
   "outputs": [],
   "source": [
    "def runMD(topfile, pdbfile, trajfile, length):\n",
    "    try:\n",
    "        os.remove(\"Lig_500.top\")\n",
    "    except:\n",
    "        pass\n",
    "    top_prm = parmed.load_file(topfile)\n",
    "    top_500 = top_prm * 500\n",
    "    top_500.save(\"Lig_500.top\")\n",
    "    pdb = app.PDBFile(pdbfile)\n",
    "    top = app.GromacsTopFile(\"Lig_500.top\")\n",
    "    top.topology.setPeriodicBoxVectors(pdb.topology.getPeriodicBoxVectors())\n",
    "    system = top.createSystem(nonbondedMethod=app.PME, nonbondedCutoff=1.0*unit.nanometer, constraints=app.HBonds, hydrogenMass=3*unit.dalton)\n",
    "    for force in system.getForces():\n",
    "        if isinstance(force, mm.NonbondedForce):\n",
    "            force.setUseDispersionCorrection(False)\n",
    "    system.addForce(mm.MonteCarloBarostat(1.0*unit.bar, 300*unit.kelvin, 25))\n",
    "    integ = mm.LangevinIntegrator(300*unit.kelvin, 1/unit.picosecond, 2.5*unit.femtosecond)\n",
    "    simulation = app.Simulation(top.topology, system, integ)\n",
    "    simulation.reporters.append(app.StateDataReporter(sys.stdout, 400, time=True, potentialEnergy=True, temperature=True, density=True, speed=True, remainingTime=True, totalSteps=int(length) * 400))\n",
    "    simulation.reporters.append(app.DCDReporter(trajfile, 400))\n",
    "    simulation.context.setPositions(pdb.getPositions())\n",
    "    simulation.minimizeEnergy(maxIterations=200)\n",
    "    simulation.step(int(length) * 400)\n",
    "    os.remove(\"Lig_500.top\")\n",
    "\n",
    "# runMD(\"Lig.top\", \"init.pdb\", \"traj.dcd\", 100)"
   ]
  },
  {
   "cell_type": "code",
   "execution_count": 126,
   "metadata": {},
   "outputs": [],
   "source": [
    "def rerun_energy(pdb, traj, top, skip=20, removeLJ=True):\n",
    "    samples = md.load(traj, top=pdb)[skip:]\n",
    "    try:\n",
    "        os.remove(\"Lig_500.top\")\n",
    "    except:\n",
    "        pass\n",
    "    top_prm = parmed.load_file(top)\n",
    "    top_500 = top_prm * 500\n",
    "    top_500.save(\"Lig_500.top\")\n",
    "    pdb = app.PDBFile(pdb)\n",
    "    top = app.GromacsTopFile(\"Lig_500.top\")\n",
    "    os.remove(\"Lig_500.top\")\n",
    "    top.topology.setPeriodicBoxVectors(pdb.topology.getPeriodicBoxVectors())\n",
    "    system = top.createSystem(nonbondedMethod=app.PME, nonbondedCutoff=1.0*unit.nanometer, constraints=app.HBonds, hydrogenMass=3*unit.dalton)\n",
    "    \n",
    "    for force in system.getForces():\n",
    "        if isinstance(force, mm.NonbondedForce):\n",
    "            force.setUseDispersionCorrection(False)\n",
    "            if removeLJ:\n",
    "                for npart in range(force.getNumParticles()):\n",
    "                    chrg, sig, eps = force.getParticleParameters(npart)\n",
    "                    force.setParticleParameters(npart, chrg, 1.0, 0.0)\n",
    "                for nex in range(force.getNumExceptions()):\n",
    "                    p1, p2, chrg, sig, eps = force.getExceptionParameters(nex)\n",
    "                    force.setExceptionParameters(nex, p1, p2, chrg, 1.0, 0.0)\n",
    "    integ = mm.LangevinIntegrator(300*unit.kelvin, 1/unit.picosecond, 2.5*unit.femtosecond)\n",
    "    ctx = mm.Context(system, integ)\n",
    "    energies = []\n",
    "    for frame in tqdm(samples):\n",
    "        ctx.setPositions(frame.xyz[0] * unit.nanometer)\n",
    "        ctx.setPeriodicBoxVectors(*frame.unitcell_vectors[0])\n",
    "        ctx.applyConstraints(1e-10)\n",
    "        state = ctx.getState(getEnergy=True)\n",
    "        energy = state.getPotentialEnergy().value_in_unit(unit.kilojoule_per_mole)\n",
    "        energies.append(energy)\n",
    "    return np.array(energies)\n",
    "\n",
    "# rerun_energy(\"init.pdb\", \"traj.dcd\", \"Lig.top\")"
   ]
  },
  {
   "cell_type": "code",
   "execution_count": 113,
   "metadata": {},
   "outputs": [],
   "source": [
    "def rerun_dmff_lennard_jones(params, pdb, traj, efunc, skip=20):\n",
    "    samples = md.load(traj, top=pdb)[skip:]\n",
    "    energies = []\n",
    "    nblist = NeighborListFreud(samples.unitcell_vectors[0], 1.0, cov_mat)\n",
    "    xyzs_jnp = jnp.array(samples.xyz)\n",
    "    cell_jnp = jnp.array(samples.unitcell_vectors)\n",
    "    pairs_prep = []\n",
    "    for frame in tqdm(samples):\n",
    "        # calc pair\n",
    "        pairs = nblist.allocate(frame.xyz[0], frame.unitcell_vectors[0])\n",
    "        pairs_prep.append(pairs)\n",
    "    pmax = max([i.shape[0] for i in pairs_prep])\n",
    "    pairs_jnp = np.zeros((len(pairs_prep), pmax, 3), dtype=int) + frame.xyz.shape[1]\n",
    "    for n, pairs in enumerate(pairs_prep):\n",
    "        pairs_jnp[n,:pairs.shape[0],:] = pairs[:,:]\n",
    "    pairs_jnp = jnp.array(pairs_jnp)\n",
    "    energies = jax.vmap(efunc, (0, 0, 0, None), 0)(xyzs_jnp, cell_jnp, pairs_jnp, params)\n",
    "    return energies"
   ]
  },
  {
   "cell_type": "code",
   "execution_count": 114,
   "metadata": {},
   "outputs": [
    {
     "name": "stderr",
     "output_type": "stream",
     "text": [
      "100%|██████████| 80/80 [00:18<00:00,  4.44it/s]\n"
     ]
    }
   ],
   "source": [
    "pj = rerun_dmff_lennard_jones(paramset, \"init.pdb\", \"traj.dcd\", lj_force)"
   ]
  },
  {
   "cell_type": "code",
   "execution_count": 115,
   "metadata": {},
   "outputs": [
    {
     "data": {
      "text/plain": [
       "Array([-10259.282 , -10072.819 , -10270.184 , -10181.286 ,  -9871.413 ,\n",
       "       -10087.422 ,  -9923.77  , -10097.987 , -10111.795 , -10059.525 ,\n",
       "       -10106.235 , -10029.404 ,  -9918.766 , -10203.414 , -10095.917 ,\n",
       "       -10050.951 , -10190.898 , -10272.999 , -10262.374 , -10232.128 ,\n",
       "       -10238.684 , -10028.451 ,  -9884.382 ,  -9966.482 ,  -9937.881 ,\n",
       "        -9964.069 ,  -9998.268 , -10018.248 ,  -9835.656 ,  -9992.064 ,\n",
       "        -9802.05  ,  -9841.151 ,  -9855.98  , -10082.376 ,  -9958.59  ,\n",
       "        -9949.369 , -10299.512 , -10282.863 , -10156.918 , -10131.67  ,\n",
       "       -10031.213 , -10060.882 , -10142.455 , -10116.625 , -10166.098 ,\n",
       "        -9992.108 , -10100.144 , -10295.543 ,  -9991.143 , -10293.24  ,\n",
       "       -10068.669 , -10131.208 ,  -9841.764 , -10132.465 ,  -9901.182 ,\n",
       "       -10209.082 ,  -9997.776 , -10121.98  ,  -9842.379 , -10071.485 ,\n",
       "       -10180.456 , -10278.77  , -10157.969 , -10045.396 , -10144.507 ,\n",
       "        -9809.929 , -10058.0625,  -9986.914 , -10069.897 , -10036.668 ,\n",
       "        -9908.391 , -10033.959 , -10051.006 ,  -9877.834 , -10064.668 ,\n",
       "        -9975.936 , -10070.281 , -10112.713 , -10071.787 , -10129.074 ],      dtype=float32)"
      ]
     },
     "execution_count": 115,
     "metadata": {},
     "output_type": "execute_result"
    }
   ],
   "source": [
    "pj"
   ]
  },
  {
   "cell_type": "code",
   "execution_count": 127,
   "metadata": {},
   "outputs": [
    {
     "name": "stderr",
     "output_type": "stream",
     "text": [
      "100%|██████████| 80/80 [00:02<00:00, 26.72it/s]\n",
      "100%|██████████| 80/80 [00:02<00:00, 26.94it/s]\n"
     ]
    }
   ],
   "source": [
    "ener = rerun_energy(\"init.pdb\", \"traj.dcd\", \"Lig.top\", removeLJ=False)\n",
    "ener_no_lj = rerun_energy(\"init.pdb\", \"traj.dcd\", \"Lig.top\")"
   ]
  },
  {
   "cell_type": "code",
   "execution_count": 128,
   "metadata": {},
   "outputs": [
    {
     "data": {
      "text/plain": [
       "array([-10259.2890625, -10072.8359375, -10270.1953125, -10181.296875 ,\n",
       "        -9871.421875 , -10087.421875 ,  -9923.78125  , -10097.9921875,\n",
       "       -10111.796875 , -10059.53125  , -10106.2421875, -10029.4140625,\n",
       "        -9918.7734375, -10203.421875 , -10095.9296875, -10050.96875  ,\n",
       "       -10190.9140625, -10273.0078125, -10262.3828125, -10232.140625 ,\n",
       "       -10238.6953125, -10028.46875  ,  -9884.3984375,  -9966.4921875,\n",
       "        -9937.890625 ,  -9964.0703125,  -9998.2734375, -10018.25     ,\n",
       "        -9835.6640625,  -9992.0703125,  -9802.0625   ,  -9841.15625  ,\n",
       "        -9855.9921875, -10082.3828125,  -9958.59375  ,  -9949.375    ,\n",
       "       -10299.515625 , -10282.8671875, -10156.921875 , -10131.671875 ,\n",
       "       -10031.21875  , -10060.890625 , -10142.4609375, -10116.6328125,\n",
       "       -10166.1171875,  -9992.1171875, -10100.15625  , -10295.5546875,\n",
       "        -9991.15625  , -10293.25     , -10068.6796875, -10131.2265625,\n",
       "        -9841.78125  , -10132.46875  ,  -9901.203125 , -10209.09375  ,\n",
       "        -9997.796875 , -10122.       ,  -9842.390625 , -10071.484375 ,\n",
       "       -10180.46875  , -10278.7734375, -10157.9765625, -10045.4140625,\n",
       "       -10144.5234375,  -9809.9375   , -10058.0703125,  -9986.921875 ,\n",
       "       -10069.8984375, -10036.671875 ,  -9908.40625  , -10033.9609375,\n",
       "       -10051.015625 ,  -9877.8359375, -10064.6796875,  -9975.9453125,\n",
       "       -10070.2890625, -10112.7265625, -10071.796875 , -10129.0859375])"
      ]
     },
     "execution_count": 128,
     "metadata": {},
     "output_type": "execute_result"
    }
   ],
   "source": [
    "ener - ener_no_lj"
   ]
  },
  {
   "cell_type": "code",
   "execution_count": 116,
   "metadata": {},
   "outputs": [],
   "source": [
    "import matplotlib.pyplot as plt"
   ]
  },
  {
   "cell_type": "code",
   "execution_count": 129,
   "metadata": {},
   "outputs": [
    {
     "data": {
      "text/plain": [
       "<matplotlib.collections.PathCollection at 0x2ebdb6eb0>"
      ]
     },
     "execution_count": 129,
     "metadata": {},
     "output_type": "execute_result"
    },
    {
     "data": {
      "image/png": "[encoded data removed]",
      "text/plain": [
       "<Figure size 640x480 with 1 Axes>"
      ]
     },
     "metadata": {},
     "output_type": "display_data"
    }
   ],
   "source": [
    "plt.scatter(pj, ener - ener_no_lj)"
   ]
  },
  {
   "cell_type": "code",
   "execution_count": 130,
   "metadata": {},
   "outputs": [],
   "source": [
    "e_jax = ener_no_lj + pj"
   ]
  },
  {
   "cell_type": "code",
   "execution_count": 133,
   "metadata": {},
   "outputs": [
    {
     "data": {
      "text/plain": [
       "Array([19819.008, 20110.86 , 19405.441, 19673.855, 20351.719, 20175.602,\n",
       "       20405.246, 20314.395, 19954.354, 20528.748, 19727.969, 20113.94 ,\n",
       "       20344.86 , 19843.438, 19785.48 , 19814.088, 19520.555, 20107.828,\n",
       "       19944.43 , 19767.191, 19880.113, 19682.729, 19586.5  , 19643.62 ,\n",
       "       20290.502, 19951.453, 19752.842, 19897.041, 19992.219, 20240.81 ,\n",
       "       19604.613, 20423.387, 20127.941, 20299.328, 20108.012, 19717.209,\n",
       "       19710.066, 19974.207, 20092.324, 20134.768, 19587.686, 19859.633,\n",
       "       20126.67 , 19870.586, 19902.098, 19828.367, 19612.55 , 19614.3  ,\n",
       "       19892.256, 19441.377, 19869.098, 19994.371, 20008.768, 19838.074,\n",
       "       19210.967, 19640.098, 19408.574, 19761.902, 20360.27 , 20238.086,\n",
       "       20085.684, 19682.863, 19871.71 , 20335.26 , 20006.047, 19499.406,\n",
       "       19576.523, 19337.969, 19196.64 , 20252.121, 20399.633, 19358.611,\n",
       "       19423.424, 19959.525, 20285.152, 19381.604, 19713.453, 19861.193,\n",
       "       19662.58 , 19821.496], dtype=float32)"
      ]
     },
     "execution_count": 133,
     "metadata": {},
     "output_type": "execute_result"
    }
   ],
   "source": [
    "e_jax"
   ]
  },
  {
   "cell_type": "code",
   "execution_count": null,
   "metadata": {},
   "outputs": [],
   "source": []
  }
 ],
 "metadata": {
  "kernelspec": {
   "display_name": "dmff",
   "language": "python",
   "name": "python3"
  },
  "language_info": {
   "codemirror_mode": {
    "name": "ipython",
    "version": 3
   },
   "file_extension": ".py",
   "mimetype": "text/x-python",
   "name": "python",
   "nbconvert_exporter": "python",
   "pygments_lexer": "ipython3",
   "version": "3.9.16"
  },
  "orig_nbformat": 4
 },
 "nbformat": 4,
 "nbformat_minor": 2
}
