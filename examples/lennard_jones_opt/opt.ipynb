{
 "cells": [
  {
   "cell_type": "code",
   "execution_count": 1,
   "metadata": {},
   "outputs": [],
   "source": [
    "import openmm.app as app\n",
    "import openmm as mm\n",
    "import openmm.unit as unit\n",
    "import numpy as np\n",
    "import jax.numpy as jnp\n",
    "import dmff\n",
    "from dmff.api.xmlio import XMLIO\n",
    "from dmff.api.paramset import ParamSet\n",
    "from dmff.generators.classical import CoulombGenerator, LennardJonesGenerator\n",
    "from dmff.api.hamiltonian import Hamiltonian\n",
    "from dmff.operators import ParmedLennardJonesOperator\n",
    "import parmed"
   ]
  },
  {
   "cell_type": "code",
   "execution_count": 2,
   "metadata": {},
   "outputs": [],
   "source": [
    "prm_top = parmed.load_file(\"Lig.top\")\n",
    "dmfftop = dmff.DMFFTopology(from_top=prm_top.topology)"
   ]
  },
  {
   "cell_type": "code",
   "execution_count": 3,
   "metadata": {},
   "outputs": [],
   "source": [
    "prmop = ParmedLennardJonesOperator()\n",
    "dmfftop = prmop(dmfftop, gmx_top = prm_top)"
   ]
  },
  {
   "cell_type": "code",
   "execution_count": 4,
   "metadata": {},
   "outputs": [],
   "source": [
    "prmop.renderLennardJonesXML(\"init.xml\")\n",
    "xmlio = XMLIO()\n",
    "xmlio.loadXML(\"init.xml\")\n",
    "ffinfo = xmlio.parseXML()"
   ]
  },
  {
   "cell_type": "code",
   "execution_count": 5,
   "metadata": {},
   "outputs": [],
   "source": [
    "cov_mat = dmfftop.buildCovMat()"
   ]
  },
  {
   "cell_type": "code",
   "execution_count": 6,
   "metadata": {},
   "outputs": [],
   "source": [
    "paramset = ParamSet()\n",
    "lj_gen = LennardJonesGenerator(ffinfo, paramset)"
   ]
  },
  {
   "cell_type": "code",
   "execution_count": 7,
   "metadata": {},
   "outputs": [],
   "source": [
    "pairs = []\n",
    "for ii in range(dmfftop.getNumAtoms()):\n",
    "    for jj in range(ii+1, dmfftop.getNumAtoms()):\n",
    "        pairs.append([ii, jj, cov_mat[ii, jj]])\n",
    "pairs = jnp.array(pairs, dtype=int)\n",
    "\n",
    "pos = app.PDBFile(\"GAS.pdb\").getPositions(asNumpy=True).value_in_unit(unit.nanometer)\n",
    "pos = jnp.array(pos)\n",
    "\n",
    "box = jnp.array([\n",
    "    [10.0, 0.0, 0.0],\n",
    "    [0.0, 10.0, 0.0],\n",
    "    [0.0, 0.0, 10.0]\n",
    "])"
   ]
  },
  {
   "cell_type": "code",
   "execution_count": 8,
   "metadata": {},
   "outputs": [
    {
     "name": "stdout",
     "output_type": "stream",
     "text": [
      "JAX mol1:  21.271616\n"
     ]
    }
   ],
   "source": [
    "lj_force = lj_gen.createPotential(\n",
    "    dmfftop, nonbondedMethod=app.NoCutoff, nonbondedCutoff=1.0, args={})\n",
    "ener_mol = lj_force(pos, box, pairs, paramset)\n",
    "print(\"JAX mol1: \", ener_mol)"
   ]
  }
 ],
 "metadata": {
  "kernelspec": {
   "display_name": "dmff",
   "language": "python",
   "name": "python3"
  },
  "language_info": {
   "codemirror_mode": {
    "name": "ipython",
    "version": 3
   },
   "file_extension": ".py",
   "mimetype": "text/x-python",
   "name": "python",
   "nbconvert_exporter": "python",
   "pygments_lexer": "ipython3",
   "version": "3.9.16"
  },
  "orig_nbformat": 4
 },
 "nbformat": 4,
 "nbformat_minor": 2
}
