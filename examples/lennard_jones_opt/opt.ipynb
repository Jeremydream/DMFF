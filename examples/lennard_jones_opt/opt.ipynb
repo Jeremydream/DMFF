{
 "cells": [
  {
   "cell_type": "code",
   "execution_count": 1,
   "metadata": {},
   "outputs": [],
   "source": [
    "import dmff"
   ]
  },
  {
   "cell_type": "code",
   "execution_count": 2,
   "metadata": {},
   "outputs": [],
   "source": [
    "import openmm.app as app\n",
    "import openmm as mm\n",
    "import openmm.unit as unit"
   ]
  },
  {
   "cell_type": "code",
   "execution_count": 7,
   "metadata": {},
   "outputs": [],
   "source": [
    "import parmed"
   ]
  },
  {
   "cell_type": "code",
   "execution_count": 5,
   "metadata": {},
   "outputs": [
    {
     "name": "stdout",
     "output_type": "stream",
     "text": [
      "\u001b[0;31mInit signature:\u001b[0m \u001b[0mapp\u001b[0m\u001b[0;34m.\u001b[0m\u001b[0mPDBFile\u001b[0m\u001b[0;34m(\u001b[0m\u001b[0mfile\u001b[0m\u001b[0;34m,\u001b[0m \u001b[0mextraParticleIdentifier\u001b[0m\u001b[0;34m=\u001b[0m\u001b[0;34m'EP'\u001b[0m\u001b[0;34m)\u001b[0m\u001b[0;34m\u001b[0m\u001b[0;34m\u001b[0m\u001b[0m\n",
      "\u001b[0;31mDocstring:\u001b[0m     \n",
      "PDBFile parses a Protein Data Bank (PDB) file and constructs a Topology and a set of atom positions from it.\n",
      "\n",
      "This class also provides methods for creating PDB files.  To write a file containing a single model, call\n",
      "writeFile().  You also can create files that contain multiple models.  To do this, first call writeHeader(),\n",
      "then writeModel() once for each model in the file, and finally writeFooter() to complete the file.\n",
      "\u001b[0;31mInit docstring:\u001b[0m\n",
      "Load a PDB file.\n",
      "\n",
      "The atom positions and Topology can be retrieved by calling getPositions() and getTopology().\n",
      "\n",
      "Parameters\n",
      "----------\n",
      "file : string or file\n",
      "    the name of the file to load.  Alternatively you can pass an open file object.\n",
      "extraParticleIdentifier : string='EP'\n",
      "    if this value appears in the element column for an ATOM record, the Atom's element will be set to None to mark it as an extra particle\n",
      "\u001b[0;31mFile:\u001b[0m           ~/miniconda3/envs/dmff/lib/python3.9/site-packages/openmm/app/pdbfile.py\n",
      "\u001b[0;31mType:\u001b[0m           type\n",
      "\u001b[0;31mSubclasses:\u001b[0m     "
     ]
    }
   ],
   "source": [
    "top = parmed.load_file(\"Lig.top\")"
   ]
  },
  {
   "cell_type": "code",
   "execution_count": null,
   "metadata": {},
   "outputs": [],
   "source": []
  }
 ],
 "metadata": {
  "kernelspec": {
   "display_name": "dmff",
   "language": "python",
   "name": "python3"
  },
  "language_info": {
   "codemirror_mode": {
    "name": "ipython",
    "version": 3
   },
   "file_extension": ".py",
   "mimetype": "text/x-python",
   "name": "python",
   "nbconvert_exporter": "python",
   "pygments_lexer": "ipython3",
   "version": "3.9.16"
  },
  "orig_nbformat": 4
 },
 "nbformat": 4,
 "nbformat_minor": 2
}
